{
 "cells": [
  {
   "cell_type": "markdown",
   "metadata": {},
   "source": [
    "# Problem 1\n",
    "$$\n",
    "\\begin{align*}\n",
    "& F(x) = x_{1}^{2} + 4x_{2}^{2} - 3x_{1}x_{2} + 5 \\\\\n",
    "& \\nabla F(x) = [2x_{1} - 3x_{2}, -3x_{1} + 8x_2]^T \\\\\n",
    "& x_{initial} = [2, 1]^T \\\\\n",
    "& x_{new} = x_{initial} - \\alpha \\nabla F(x)|_{x=x_{initial}} \\\\\n",
    "& x_{new} = [2, 1]^T - 2 [2(2) - 3(1), -3(2) + 8(1)]^T \\\\\n",
    "& x_{new} = [2, 1]^T - 2 [1, 2] \\\\\n",
    "& x_{new} = [0, -3]^T\n",
    "\\end{align*}\n",
    "$$"
   ]
  },
  {
   "cell_type": "code",
   "execution_count": 1,
   "metadata": {},
   "outputs": [
    {
     "data": {
      "image/png": "[encoded data removed]",
      "text/plain": [
       "<Figure size 1152x432 with 2 Axes>"
      ]
     },
     "metadata": {},
     "output_type": "display_data"
    }
   ],
   "source": [
    "%matplotlib inline\n",
    "import matplotlib.pyplot as plt\n",
    "import numpy as np\n",
    "xx = np.linspace(0, 3, 1000)\n",
    "f, ax = plt.subplots(1, 2, figsize=(16, 6))\n",
    "x = np.float32([[-1, 2], [1, 3], [1, 1], [3, 2]])\n",
    "class_00 = ax[0].plot(x[[0,1], 0], x[[0,1], 1], 'rx', label='class 0')\n",
    "class_01 = ax[0].plot(x[[2,3], 0], x[[2,3], 1], 'bo', label='class 1')\n",
    "class_10 = ax[1].plot(x[[0,2], 0], x[[0,2], 1], 'rx', label='class 0')\n",
    "class_11 = ax[1].plot(x[[1,3], 0], x[[1,3], 1], 'bo', label='class 1')\n",
    "ax[0].set_ylim([0, 3])\n",
    "ax[0].legend()\n",
    "ax[0].set_title('First Target')\n",
    "ax[0].axis('equal')\n",
    "ax[1].legend()\n",
    "ax[1].set_title('Second Target')\n",
    "ax[1].axis('equal')\n",
    "\n",
    "#ax[0].plot(x, x+1, 'g')\n",
    "#ax[1].plot(x, -x+3, 'g')\n",
    "ax[0].set_xlim(-1, 4)\n",
    "ax[0].set_xlim(-1, 4)\n",
    "xx, yy = np.meshgrid(np.linspace(-2., 5., 100), np.linspace(-2., 5., 100))\n",
    "\n",
    "W = np.float32([[1, -1, 1], [1, 1, -3]])\n",
    "labels1 = np.sign(W[0, 0]*xx + W[0, 1]*yy + W[0, 2])\n",
    "labels2 = np.sign(W[1, 0]*xx + W[1, 1]*yy + W[1, 2])\n",
    "ax[0].pcolormesh(xx, yy, labels1)\n",
    "ax[1].pcolormesh(xx, yy, labels2)\n",
    "ax[0].grid(True)\n",
    "ax[1].grid(True)"
   ]
  },
  {
   "cell_type": "markdown",
   "metadata": {},
   "source": [
    "# 2\n",
    "This problem can be solved graphically.\n",
    "Each target row can be considered independently, so we plot them separately.\n",
    "\n",
    "For the first target, we see one possible decision boundary is the line $y = x + 1$, or $x - y + 1 = 0$, which corresponds to \n",
    "$w^T x = 0$ with $w^T = [1, -1, 1]$, so this is the first row of our matrix\n",
    "\n",
    "Similarly, for the second target we see one possible decision boundary is $y = -x - 3$ or $x + y - 3 = 0$, which corresponds to \n",
    "$w^T x = 0$ with $w^T = [1, 1, -3]$, so this is the first row of our matrix\n",
    "\n",
    "So our final answer is W = $\\begin{bmatrix} 1 & -1 & 1 \\\\ 1 & 1 & -3 \\end{bmatrix}$"
   ]
  },
  {
   "cell_type": "markdown",
   "metadata": {},
   "source": [
    "# 3\n",
    "$$\n",
    "\\begin{align*}\n",
    "& F(x) = x_1^2 + 2 x_2^2 + 3 x_1 x_2 + 5 \\\\\n",
    "& \\nabla F(x) = \n",
    "\\begin{bmatrix}\n",
    "    2x_1 - 3x_2 \\\\\n",
    "    - 3x_1 + 4x_2\n",
    "\\end{bmatrix}\n",
    "\\quad\n",
    "\\nabla^2 F(x) = \n",
    "\\begin{bmatrix}\n",
    "    2 & -3 \\\\\n",
    "    -3 & 4\n",
    "\\end{bmatrix} \\\\\n",
    "& x_0 = \\begin{bmatrix}\n",
    "    2 \\\\\n",
    "    3\n",
    "\\end{bmatrix} \\\\\n",
    "& g_0 =  \\nabla F(x)|_{x=x_0} = \\begin{bmatrix}\n",
    "    -1 \\\\\n",
    "    1 \n",
    "\\end{bmatrix} \\\\\n",
    "& \\alpha = \\frac{g_0^T d_0}{d_0^T A d_0} \\\\\n",
    "& \\alpha = \\frac{\\begin{bmatrix} -1 & 1 \\end{bmatrix} \\begin{bmatrix} 2 \\\\ 3 \\end{bmatrix}}\n",
    "{\\begin{bmatrix} 2 & 3 \\end{bmatrix} \\begin{bmatrix} 2 & -3 \\\\ -3 & 4 \\end{bmatrix} \\begin{bmatrix} 2 \\\\ 3 \\end{bmatrix}} \\\\\n",
    "& \\alpha = \\frac{-2 + 3} \n",
    "{\\begin{bmatrix} 2 & 3 \\end{bmatrix} \\begin{bmatrix} -5 \\\\ 6 \\end{bmatrix}} \\\\\n",
    "& \\alpha = \\frac{1}\n",
    "{8} \\\\\n",
    "& x_1 = x_0 - \\alpha d_0 \\\\\n",
    "& x_1 = \\begin{bmatrix} 1 \\\\ 1 \\end{bmatrix} - \\frac{1}{8} \\begin{bmatrix}2 \\\\ 3\\end{bmatrix} \\\\\n",
    "& x_1 = \\begin{bmatrix} 0.75 \\\\ 0.625 \\end{bmatrix} \\quad \\textbf{or} \\quad \\begin{bmatrix} 3/4 \\\\ 5/8 \\end{bmatrix}\n",
    "\\end{align*}\n",
    "$$"
   ]
  },
  {
   "cell_type": "markdown",
   "metadata": {},
   "source": [
    "# 4\n",
    "Using \n",
    "$$\n",
    "\\begin{align*}\n",
    "& c = E[t^2] \\quad d = E[tz] \\quad A = E[zz^T]\\\\\n",
    "& c = 0.5(t_1^2) + 0.5(t_2^2) = 0.5(25) + 0.5(4) = 14.5 \\\\\n",
    "& d = 0.5(t_1 z_1) + 0.5 (t_2 z_2) \\\\ \n",
    "& d = (0.5) (5) \\begin{bmatrix} 2 \\\\ 3 \\\\ 1 \\end {bmatrix} + (0.5) (2) \\begin{bmatrix} 3 \\\\ 4 \\\\ 1 \\end {bmatrix} \\\\\n",
    "& d = (0.5) \\begin{bmatrix} 10 + 6 \\\\ 15 + 8 \\\\ 5 + 2 \\end {bmatrix} \\\\\n",
    "& d = \\begin{bmatrix} 8 \\\\ 11.5 \\\\ 3.5 \\end {bmatrix} \\\\\n",
    "& A = 0.5 \\begin{bmatrix} 2 \\\\ 3 \\\\ 1 \\end {bmatrix} \\begin{bmatrix} 2 & 3 & 1 \\end {bmatrix} + 0.5 \\begin{bmatrix} 3 \\\\ 4 \\\\ 1 \\end {bmatrix} \\begin{bmatrix} 3 & 4 &  1 \\end {bmatrix} \\\\\n",
    "& A = 0.5 \\begin{bmatrix} 4 & 6 & 2 \\\\ 6 & 9 & 3 \\\\ 2 & 3 & 1 \\end {bmatrix} + \n",
    "0.5 \\begin{bmatrix} 9 & 12 & 3 \\\\ 12 & 16 & 4 \\\\ 3 & 4 & 1 \\end {bmatrix} \\\\\n",
    "& A = 0.5 \\begin{bmatrix} 13 & 18 & 5 \\\\ 18 & 25 & 7 \\\\ 5 & 7 & 2 \\end {bmatrix} = \\begin{bmatrix} 6.5 & 9 & 2.5 \\\\ 9 & 12.5 & 3.5 \\\\ 2.5 & 3.5 & 1 \\end {bmatrix}\n",
    "\\end{align*}\n",
    "$$\n"
   ]
  },
  {
   "cell_type": "markdown",
   "metadata": {},
   "source": [
    "# 5\n",
    "$$\n",
    "\\begin{align*}\n",
    "& F(X)= 4x_1^2+7x_2^2+4x_1 x_2 \\\\\n",
    "& \\nabla F(X) = \\begin{bmatrix} \n",
    "    8x_1 + 4x_2 & \\\\ \n",
    "    4x_1 + 14x_2 \n",
    "\\end{bmatrix} \\\\\n",
    "& \\nabla F(X) = \\begin{bmatrix} \n",
    "    8x_1 + 4x_2 & \\\\ \n",
    "    4x_1 + 14x_2 \n",
    "\\end{bmatrix}  = 0\\\\\n",
    "& \\begin{bmatrix} x_1 \\\\ x_2 \\end{bmatrix}  = 0 \\\\\n",
    "& \\nabla^2 F(X) = \\begin{bmatrix} \n",
    "    8 & 4 \\\\ \n",
    "    4 & 14 \n",
    "\\end{bmatrix}\n",
    "& \\textbf{Find eigenvalues} \\\\\n",
    "& det [\\nabla^2 F(X) - \\lambda I] = 0 \\\\\n",
    "& det \\begin{bmatrix} \n",
    "    8 - \\lambda & 4 \\\\ \n",
    "    4 & 14  - \\lambda\n",
    "\\end{bmatrix} = 0 \\\\\n",
    "& (8 - \\lambda)(14 - \\lambda) - 16 = 0 \\\\\n",
    "& \\lambda^2 - 22 \\lambda + 96 = 0 \\\\\n",
    "& \\lambda = 6, 16 \\quad \\text{are our eigenvalues} \\\\\n",
    "& \\text{Both positive, single strong minimum at (0, 0)}\n",
    "\\end{align*}\n",
    "$$"
   ]
  },
  {
   "cell_type": "code",
   "execution_count": 2,
   "metadata": {
    "collapsed": true
   },
   "outputs": [],
   "source": []
  }
 ],
 "metadata": {
  "hide_input": false,
  "kernelspec": {
   "display_name": "Python 3",
   "language": "python",
   "name": "python3"
  },
  "language_info": {
   "codemirror_mode": {
    "name": "ipython",
    "version": 3
   },
   "file_extension": ".py",
   "mimetype": "text/x-python",
   "name": "python",
   "nbconvert_exporter": "python",
   "pygments_lexer": "ipython3",
   "version": "3.6.5"
  },
  "varInspector": {
   "cols": {
    "lenName": 16.0,
    "lenType": 16.0,
    "lenVar": 40.0
   },
   "kernels_config": {
    "python": {
     "delete_cmd_postfix": "",
     "delete_cmd_prefix": "del ",
     "library": "var_list.py",
     "varRefreshCmd": "print(var_dic_list())"
    },
    "r": {
     "delete_cmd_postfix": ") ",
     "delete_cmd_prefix": "rm(",
     "library": "var_list.r",
     "varRefreshCmd": "cat(var_dic_list()) "
    }
   },
   "types_to_exclude": [
    "module",
    "function",
    "builtin_function_or_method",
    "instance",
    "_Feature"
   ],
   "window_display": false
  }
 },
 "nbformat": 4,
 "nbformat_minor": 1
}
