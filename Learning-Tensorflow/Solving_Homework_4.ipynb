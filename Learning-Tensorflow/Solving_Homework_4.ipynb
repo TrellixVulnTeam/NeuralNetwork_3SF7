{
 "cells": [
  {
   "cell_type": "code",
   "execution_count": null,
   "metadata": {
    "colab": {
     "base_uri": "https://localhost:8080/",
     "height": 217
    },
    "colab_type": "code",
    "id": "mGt1FTQEr1JY",
    "outputId": "1568e358-fee9-48cb-ed35-0be66db37d4b"
   },
   "outputs": [],
   "source": [
    "!wget http://ranger.uta.edu/~kamangar/CSE-5368-FA18/LinkedDocuments/data_set_2.csv"
   ]
  },
  {
   "cell_type": "code",
   "execution_count": null,
   "metadata": {
    "colab": {},
    "colab_type": "code",
    "id": "RAx1edvfrsWe"
   },
   "outputs": [],
   "source": [
    "%matplotlib inline\n",
    "import numpy as np\n",
    "import tensorflow as tf\n",
    "import matplotlib.pyplot as plt\n",
    "\n",
    "from skimage.util import view_as_windows # the magic function"
   ]
  },
  {
   "cell_type": "code",
   "execution_count": null,
   "metadata": {
    "colab": {
     "base_uri": "https://localhost:8080/",
     "height": 108
    },
    "colab_type": "code",
    "id": "5EOOdZdrrwb_",
    "outputId": "befcbe46-fcfe-4891-e54d-76bd483383bc"
   },
   "outputs": [],
   "source": [
    "data = np.loadtxt('data_set_2.csv', skiprows=1, delimiter=',')\n",
    "print(data[0:5])"
   ]
  },
  {
   "cell_type": "markdown",
   "metadata": {
    "colab_type": "text",
    "id": "Z-CuiCyQz4KZ"
   },
   "source": [
    "# Create delays"
   ]
  },
  {
   "cell_type": "code",
   "execution_count": null,
   "metadata": {
    "colab": {
     "base_uri": "https://localhost:8080/",
     "height": 799
    },
    "colab_type": "code",
    "id": "JnrqLfVNsOTW",
    "outputId": "cd851aa1-ac55-4f41-e717-5a1cb1ad8be1"
   },
   "outputs": [],
   "source": [
    "num_delays = 4\n",
    "stride = 1\n",
    "with_delays = view_as_windows(data, (num_delays+1, 2), step=stride)\n",
    "with_delays"
   ]
  },
  {
   "cell_type": "markdown",
   "metadata": {
    "colab_type": "text",
    "id": "Pg8E_CKpz9ka"
   },
   "source": [
    "# Make into column vectors"
   ]
  },
  {
   "cell_type": "code",
   "execution_count": null,
   "metadata": {
    "colab": {
     "base_uri": "https://localhost:8080/",
     "height": 54
    },
    "colab_type": "code",
    "id": "4d5HOIxhsDEA",
    "outputId": "d7c18009-14ee-4a8b-bfc8-fabe8e2dd72c"
   },
   "outputs": [],
   "source": [
    "inputs = with_delays.squeeze().reshape(-1, 10).T\n",
    "inputs = inputs[:, :-1]\n",
    "print(inputs[:,0])"
   ]
  },
  {
   "cell_type": "code",
   "execution_count": null,
   "metadata": {
    "colab": {},
    "colab_type": "code",
    "collapsed": true,
    "id": "zNnEMWWOxa_s"
   },
   "outputs": [],
   "source": [
    "targets = data[num_delays+1:, 0]"
   ]
  },
  {
   "cell_type": "code",
   "execution_count": null,
   "metadata": {
    "colab": {},
    "colab_type": "code",
    "collapsed": true,
    "id": "SDxtgUbh0cka"
   },
   "outputs": [],
   "source": [
    "tf.reset_default_graph()\n",
    "W = tf.Variable(np.zeros((1, (num_delays+1)*2), dtype=np.float32))\n",
    "b = tf.Variable(0, dtype=np.float32)\n",
    "p = tf.placeholder(dtype=np.float32)\n",
    "t = tf.placeholder(dtype=np.float32)\n",
    "lr = tf.placeholder(dtype=np.float32)\n",
    "#lr = 0.1\n",
    "\n",
    "  "
   ]
  },
  {
   "cell_type": "markdown",
   "metadata": {
    "colab_type": "text",
    "id": "yPZ7edQ1G6Za"
   },
   "source": [
    "$d/dW \\frac{1}{n}((Wp + b) - t)^2$\n",
    "\n",
    "$d/db \\frac{1}{n}((Wp + b) - t)^2$\n",
    "\n",
    "$W_{new} = W_{old} - \\alpha * d/dW \\frac{1}{n}((Wp + b) - t)^2$\n",
    "\n",
    "$b_{new} = b_{old} - \\alpha * d/db \\frac{1}{n}((Wp + b) - t)^2$"
   ]
  },
  {
   "cell_type": "code",
   "execution_count": null,
   "metadata": {
    "colab": {},
    "colab_type": "code",
    "collapsed": true,
    "id": "C97JVHaQ0rgb"
   },
   "outputs": [],
   "source": [
    "output = tf.matmul(W, p) + b\n",
    "mse = tf.reduce_mean(tf.pow(output - t, 2))\n",
    "dW, db = tf.gradients(mse, [W, b])\n",
    "update_W = tf.assign_sub(W, lr*dW)\n",
    "update_b = tf.assign_sub(b, lr*db)"
   ]
  },
  {
   "cell_type": "code",
   "execution_count": null,
   "metadata": {
    "colab": {
     "base_uri": "https://localhost:8080/",
     "height": 2102
    },
    "colab_type": "code",
    "id": "CZ84DPMm0zx6",
    "outputId": "bad5f697-7df6-4bf8-921b-675f31c74c12"
   },
   "outputs": [],
   "source": [
    "session = tf.InteractiveSession()\n",
    "session.run(tf.global_variables_initializer())\n",
    "errors = []\n",
    "for i in range(100):\n",
    "  current_error, _, _ = session.run([mse, update_W, update_b], \n",
    "                                    feed_dict={p : inputs, t : targets, lr : 0.01})\n",
    "  print(current_error)\n",
    "  errors.append(current_error)\n",
    "plt.plot(errors)\n",
    "\n"
   ]
  },
  {
   "cell_type": "code",
   "execution_count": null,
   "metadata": {
    "colab": {
     "base_uri": "https://localhost:8080/",
     "height": 35
    },
    "colab_type": "code",
    "id": "PZx3sZAx2Rls",
    "outputId": "9a079aad-0a5d-43c7-9b68-1c7b69879eb6"
   },
   "outputs": [],
   "source": [
    "session.run([b])"
   ]
  },
  {
   "cell_type": "code",
   "execution_count": null,
   "metadata": {
    "colab": {
     "base_uri": "https://localhost:8080/",
     "height": 72
    },
    "colab_type": "code",
    "id": "4WO6moQO3ne6",
    "outputId": "250bcc04-5c7d-408a-dbc3-54d098d987da"
   },
   "outputs": [],
   "source": [
    "session.run([W])"
   ]
  },
  {
   "cell_type": "code",
   "execution_count": null,
   "metadata": {
    "colab": {},
    "colab_type": "code",
    "collapsed": true,
    "id": "EwzEb0KHJO4X"
   },
   "outputs": [],
   "source": []
  }
 ],
 "metadata": {
  "colab": {
   "collapsed_sections": [],
   "name": "Solving Homework 4.ipynb",
   "provenance": [],
   "toc_visible": true,
   "version": "0.3.2"
  },
  "hide_input": false,
  "kernelspec": {
   "display_name": "Python 3",
   "language": "python",
   "name": "python3"
  },
  "language_info": {
   "codemirror_mode": {
    "name": "ipython",
    "version": 3
   },
   "file_extension": ".py",
   "mimetype": "text/x-python",
   "name": "python",
   "nbconvert_exporter": "python",
   "pygments_lexer": "ipython3",
   "version": "3.6.5"
  },
  "varInspector": {
   "cols": {
    "lenName": 16,
    "lenType": 16,
    "lenVar": 40
   },
   "kernels_config": {
    "python": {
     "delete_cmd_postfix": "",
     "delete_cmd_prefix": "del ",
     "library": "var_list.py",
     "varRefreshCmd": "print(var_dic_list())"
    },
    "r": {
     "delete_cmd_postfix": ") ",
     "delete_cmd_prefix": "rm(",
     "library": "var_list.r",
     "varRefreshCmd": "cat(var_dic_list()) "
    }
   },
   "types_to_exclude": [
    "module",
    "function",
    "builtin_function_or_method",
    "instance",
    "_Feature"
   ],
   "window_display": false
  }
 },
 "nbformat": 4,
 "nbformat_minor": 1
}
