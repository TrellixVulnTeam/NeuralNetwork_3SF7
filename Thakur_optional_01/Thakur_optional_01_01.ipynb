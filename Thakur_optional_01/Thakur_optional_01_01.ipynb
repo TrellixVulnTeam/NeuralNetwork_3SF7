{
 "cells": [
  {
   "cell_type": "markdown",
   "metadata": {},
   "source": [
    "<h1 style=\"text-align:center;\">Optional Assignment for Quiz 1</h1>\n",
    "<p>\n",
    "    # Thakur, Nishant <br>\n",
    "    # 1001-544-591 <br>\n",
    "    # 2018-09-26 <br>\n",
    "    # Assignment-optional-01 <br>\n",
    "</p>"
   ]
  },
  {
   "cell_type": "markdown",
   "metadata": {},
   "source": [
    "<h3>Chapter 4 </h3>\n",
    "<p> E4.1 </p>"
   ]
  },
  {
   "cell_type": "markdown",
   "metadata": {},
   "source": [
    "![image.PNG](attachment:image.PNG)"
   ]
  },
  {
   "cell_type": "markdown",
   "metadata": {},
   "source": [
    "<b>Solution:<br> i.</b><br>\n",
    "&nbsp;&nbsp;&nbsp;&nbsp;   Following is the diagram of the single-neuron perceptron with 2 inputs and 1 output which will be used to solve this problem. We require 2 inputs as the input vector has 2 values.\n",
    "\n",
    "\n",
    "![single_neuron_perceptron.PNG](attachment:single_neuron_perceptron.PNG)"
   ]
  },
  {
   "cell_type": "markdown",
   "metadata": {},
   "source": [
    "<b>ii. </b><br>\n"
   ]
  },
  {
   "cell_type": "code",
   "execution_count": 65,
   "metadata": {},
   "outputs": [],
   "source": [
    "#%matplotlib notebook\n",
    "%matplotlib inline\n",
    "import numpy as np\n",
    "import matplotlib.patches as mpatches\n",
    "import matplotlib.pyplot as plt\n",
    "from matplotlib import colors as c\n",
    "import time"
   ]
  },
  {
   "cell_type": "code",
   "execution_count": 66,
   "metadata": {},
   "outputs": [],
   "source": [
    "# Function to plot the graph with decission boundry.\n",
    "def plot(weights, bias, points1, points2):\n",
    "    fig = plt.figure()\n",
    "    ax = fig.gca()\n",
    "    resolution=100\n",
    "    xs = np.linspace(-4., 4., resolution)\n",
    "    ys = np.linspace(-4., 4., resolution)\n",
    "    xx, yy = np.meshgrid(xs, ys)\n",
    "    zz = weights[0] * xx + weights[1] * yy + bias\n",
    "    zz[zz<0] =- 0\n",
    "    zz[zz>0] =+ 1\n",
    "    cMap = c.ListedColormap(['g','r'])\n",
    "    quad = ax.pcolormesh(xs, ys, zz, cmap = cMap)\n",
    "    p1 = points1.T\n",
    "    p2 = points2.T\n",
    "    ax.scatter(p1[0], p1[1], marker='^', color = 'k')\n",
    "    ax.scatter(p2[0], p2[1], marker='o', color = 'b')\n",
    "    black_patch = mpatches.Patch(color='black', label='Target = 1')\n",
    "    blue_patch = mpatches.Patch(color='blue', label='Target = 0')\n",
    "    plt.legend(handles=[black_patch, blue_patch])\n",
    "\n",
    "    plt.show()"
   ]
  },
  {
   "cell_type": "code",
   "execution_count": 67,
   "metadata": {},
   "outputs": [],
   "source": [
    "# Initialize the weights and bias randomly to begin training\n",
    "weights = np.random.randint(-10, high = 10, size=(1, 2))[0]\n",
    "bias = np.random.randn()"
   ]
  },
  {
   "cell_type": "code",
   "execution_count": 68,
   "metadata": {},
   "outputs": [
    {
     "data": {
      "image/png": "[encoded data removed]",
      "text/plain": [
       "<Figure size 432x288 with 1 Axes>"
      ]
     },
     "metadata": {},
     "output_type": "display_data"
    }
   ],
   "source": [
    "# Input points as given in the question\n",
    "p1 = [-1, 1]\n",
    "t1 = 1\n",
    "p2 = [0, 0]\n",
    "t2 = 1\n",
    "p3 = [1, -1]\n",
    "t3 = 1\n",
    "p4 = [1, 0]\n",
    "t4 = 0\n",
    "p5= [0, 1]\n",
    "t5 = 0\n",
    "points1 = np.array([p1,p2,p3])\n",
    "points2 = np.array([p4,p5])\n",
    "\n",
    "plot(weights,bias, points1, points2)"
   ]
  },
  {
   "cell_type": "code",
   "execution_count": 69,
   "metadata": {},
   "outputs": [],
   "source": [
    "# Activation function Symmetric Hardlimit\n",
    "def activation(input_array,weights,bias):\n",
    "    net_value = np.dot(weights, input_array.T) + bias\n",
    "    return 1 if net_value >= 0 else 0"
   ]
  },
  {
   "cell_type": "code",
   "execution_count": 70,
   "metadata": {},
   "outputs": [],
   "source": [
    "# Function to train the perceptron\n",
    "# X : input to perceptron\n",
    "# Y : the target output\n",
    "# This function adjust the weights and bias for 100 steps using the learning rule.\n",
    "def train(X, Y, weights, bias):\n",
    "    for i in range(100):\n",
    "        index = np.random.choice(X.shape[0], 1, replace=False)\n",
    "        a = activation(X[index][0], weights, bias)\n",
    "        e = Y[index] - a\n",
    "        weights = weights + e * X[index]\n",
    "        bias = bias + e\n",
    "    plot(weights[0], bias, X[:len(points1)], X[len(points1):])\n",
    "\n",
    "    return weights[0],bias"
   ]
  },
  {
   "cell_type": "code",
   "execution_count": 71,
   "metadata": {},
   "outputs": [
    {
     "name": "stdout",
     "output_type": "stream",
     "text": [
      "weights before training: [6 1]\n",
      "bias before training: -0.4368226094885865\n"
     ]
    },
    {
     "data": {
      "image/png": "[encoded data removed]",
      "text/plain": [
       "<Figure size 432x288 with 1 Axes>"
      ]
     },
     "metadata": {},
     "output_type": "display_data"
    },
    {
     "name": "stdout",
     "output_type": "stream",
     "text": [
      "Updated weights after training: [-2 -2]\n",
      "Updated bias after training: [0.56317739]\n"
     ]
    }
   ],
   "source": [
    "p = np.array([p1, p2, p3, p4, p5])\n",
    "t = np.array([t1, t2, t3, t4, t5])\n",
    "\n",
    "print(\"weights before training:\", weights)\n",
    "print(\"bias before training:\", bias)\n",
    "weights, bias = train(p, t, weights, bias)\n",
    "print(\"Updated weights after training:\", weights)\n",
    "print(\"Updated bias after training:\", bias)"
   ]
  },
  {
   "cell_type": "markdown",
   "metadata": {},
   "source": [
    "<b>This problem can be solved using a single-neuron perceptron as it is linearly seperable. This can be verified by looking at the graph shown above.<b>"
   ]
  },
  {
   "cell_type": "markdown",
   "metadata": {},
   "source": [
    "<br>\n",
    "<br>\n",
    "<h2> Chapter 5</h2>"
   ]
  },
  {
   "cell_type": "markdown",
   "metadata": {},
   "source": [
    "![E58.PNG](attachment:E58.PNG)"
   ]
  },
  {
   "cell_type": "markdown",
   "metadata": {},
   "source": [
    "<b> Solution: </b>"
   ]
  },
  {
   "cell_type": "markdown",
   "metadata": {},
   "source": [
    "<b>i. ==></b>  We represent the given vectors in matrix format as"
   ]
  },
  {
   "cell_type": "code",
   "execution_count": 72,
   "metadata": {},
   "outputs": [
    {
     "name": "stdout",
     "output_type": "stream",
     "text": [
      "[[1 2 3]\n",
      " [1 0 1]\n",
      " [1 2 1]]\n"
     ]
    }
   ],
   "source": [
    "m = np.array([[1,2,3],[1,0,1],[1,2,1]])\n",
    "print(m)"
   ]
  },
  {
   "cell_type": "markdown",
   "metadata": {},
   "source": [
    "If the matrix in this equation has an inverse, then the solution will require\n",
    "that all coefficients be zero; therefore the vectors are independent. If the\n",
    "matrix is singular (has no inverse), then a nonzero set of coefficients will\n",
    "work, and the vectors are dependent. The test, then, is to create a matrix\n",
    "using the vectors as columns. If the determinant of the matrix is zero (singular\n",
    "matrix), then the vectors are dependent; otherwise they are independent.\n"
   ]
  },
  {
   "cell_type": "code",
   "execution_count": 73,
   "metadata": {},
   "outputs": [
    {
     "name": "stdout",
     "output_type": "stream",
     "text": [
      "4.0\n"
     ]
    }
   ],
   "source": [
    "determinant = np.linalg.det(m)\n",
    "print(determinant)"
   ]
  },
  {
   "cell_type": "markdown",
   "metadata": {},
   "source": [
    "The determinant of the matrix m is not 0. <b>Therefore the vectors are independent.</b><br>\n",
    "The dimension of the space spanned by the vectors is 3. We can verify it by checking the rank of the matrix. "
   ]
  },
  {
   "cell_type": "code",
   "execution_count": 74,
   "metadata": {},
   "outputs": [
    {
     "name": "stdout",
     "output_type": "stream",
     "text": [
      "3\n"
     ]
    }
   ],
   "source": [
    "rank = np.linalg.matrix_rank(m)\n",
    "print(rank)"
   ]
  },
  {
   "cell_type": "markdown",
   "metadata": {},
   "source": [
    "<br><br><br><br>\n",
    "\n",
    "<b> ii. ==></b>  By using some trigonometric identities we can write"
   ]
  },
  {
   "cell_type": "markdown",
   "metadata": {},
   "source": [
    "\\begin{equation*}\n",
    "cos(2t) = 1 - 2 sin^2(t) \\\\\n",
    "Since,\n",
    "sin^2(t) + cos^2(t) = 1 \\\\\n",
    "cos(2t) = 1 - sin^2(t) - (1 - cos^2(t)) \\\\\n",
    "cos(2t) = cos^2(t) - sin^2(t)\n",
    "\\end{equation*}"
   ]
  },
  {
   "cell_type": "markdown",
   "metadata": {},
   "source": [
    "Therefore the vectors are dependent. The dimension of the space spanned by the vectors is 2, since no linear combination of sin t and cos t is identically zero.\n"
   ]
  },
  {
   "cell_type": "markdown",
   "metadata": {},
   "source": [
    "<br><br><br><br>\n",
    "\n",
    "<b> iii. ==></b> "
   ]
  },
  {
   "cell_type": "markdown",
   "metadata": {},
   "source": [
    "we can represent it in a matrix format as"
   ]
  },
  {
   "cell_type": "code",
   "execution_count": 75,
   "metadata": {},
   "outputs": [
    {
     "name": "stdout",
     "output_type": "stream",
     "text": [
      "[[ 1  1]\n",
      " [-1  1]]\n"
     ]
    }
   ],
   "source": [
    "m = np.array([[1,1],[-1,1]])\n",
    "print(m)"
   ]
  },
  {
   "cell_type": "code",
   "execution_count": 76,
   "metadata": {},
   "outputs": [
    {
     "name": "stdout",
     "output_type": "stream",
     "text": [
      "2.0\n"
     ]
    }
   ],
   "source": [
    "determinant = np.linalg.det(m)\n",
    "print(determinant)"
   ]
  },
  {
   "cell_type": "markdown",
   "metadata": {},
   "source": [
    "The determinant of the matrix m is not 0. <b>Therefore the vectors are independent.</b><br>\n",
    "The dimension of the space spanned by the vectors is 2. We can verify it by checking the rank of the matrix. "
   ]
  },
  {
   "cell_type": "code",
   "execution_count": 77,
   "metadata": {},
   "outputs": [
    {
     "name": "stdout",
     "output_type": "stream",
     "text": [
      "2\n"
     ]
    }
   ],
   "source": [
    "rank = np.linalg.matrix_rank(m)\n",
    "print(rank)"
   ]
  },
  {
   "cell_type": "markdown",
   "metadata": {},
   "source": [
    "<br><br><br><br>\n",
    "\n",
    "<b> iv. ==></b> "
   ]
  },
  {
   "cell_type": "markdown",
   "metadata": {},
   "source": [
    " We represent the given vectors in matrix format as"
   ]
  },
  {
   "cell_type": "code",
   "execution_count": 78,
   "metadata": {},
   "outputs": [
    {
     "name": "stdout",
     "output_type": "stream",
     "text": [
      "[[1 2 2 1]\n",
      " [1 0 0 1]\n",
      " [3 4 4 3]]\n"
     ]
    }
   ],
   "source": [
    "m = np.array([[1,2,2,1],[1,0,0,1],[3,4,4,3]])\n",
    "print(m)"
   ]
  },
  {
   "cell_type": "markdown",
   "metadata": {},
   "source": [
    "This is similar to part (i), except that the number of vectors is less than the size of the vector space they are drawn from. In\n",
    "this case the matrix made up of the vectors will not be square, so we will not be able to compute a determinant. However, we can use something called the Gramian. It is the determinant of a matrix whose i, j element is the inner product of vector i and vector j. The vectors are dependent if and only if the Gramian is zero."
   ]
  },
  {
   "cell_type": "markdown",
   "metadata": {},
   "source": [
    "For our problem the Gramian would be\n",
    "\n",
    "![gramian.PNG](attachment:gramian.PNG)\n"
   ]
  },
  {
   "cell_type": "code",
   "execution_count": 79,
   "metadata": {},
   "outputs": [
    {
     "name": "stdout",
     "output_type": "stream",
     "text": [
      "[[10.  2. 22.]\n",
      " [ 2.  2.  6.]\n",
      " [22.  6. 50.]]\n"
     ]
    }
   ],
   "source": [
    "G = np.zeros((3,3))\n",
    "for i in range(3):\n",
    "    for j in range(3):\n",
    "        G[i][j] = np.dot(m[i],m[j])\n",
    "        \n",
    "print(G)\n"
   ]
  },
  {
   "cell_type": "markdown",
   "metadata": {},
   "source": [
    "Now we calculate the determinant of G."
   ]
  },
  {
   "cell_type": "code",
   "execution_count": 80,
   "metadata": {},
   "outputs": [
    {
     "name": "stdout",
     "output_type": "stream",
     "text": [
      "6.233397636440874e-14 which is approx. equal to 0.\n"
     ]
    }
   ],
   "source": [
    "determinant = np.linalg.det(G)\n",
    "print(determinant, \"which is approx. equal to 0.\")"
   ]
  },
  {
   "cell_type": "markdown",
   "metadata": {},
   "source": [
    "The determinant of the matrix m is 0. <b>Therefore the vectors are dependent.</b><br>\n",
    "The dimension of the space spanned by the vectors is 2. We can verify it by checking the rank of the matrix. "
   ]
  },
  {
   "cell_type": "code",
   "execution_count": 81,
   "metadata": {},
   "outputs": [
    {
     "name": "stdout",
     "output_type": "stream",
     "text": [
      "2\n"
     ]
    }
   ],
   "source": [
    "rank = np.linalg.matrix_rank(G)\n",
    "print(rank)"
   ]
  },
  {
   "cell_type": "markdown",
   "metadata": {},
   "source": [
    "<br><br><br><br>"
   ]
  },
  {
   "cell_type": "markdown",
   "metadata": {},
   "source": [
    "<b>Part 3: Design two questions from chapters 4 and 5 (as if you are designing a quiz).</b>"
   ]
  },
  {
   "cell_type": "markdown",
   "metadata": {},
   "source": [
    "Chapter 4:"
   ]
  },
  {
   "cell_type": "markdown",
   "metadata": {},
   "source": [
    "Find values of weights and bias for given points.\n",
    "p1 = [1,1] t1 = 1\n",
    "p2 = [1,2] t2 = 1\n",
    "\n",
    "p3 = [-1,-1] t3 = -1\n",
    "p4 = [-2,-3] t4 = -1."
   ]
  },
  {
   "cell_type": "markdown",
   "metadata": {},
   "source": [
    "Solution: \n",
    "So the line passing through origin can divide this points.\n",
    "w1 = 1, w2 = 1, bias = 0"
   ]
  },
  {
   "cell_type": "markdown",
   "metadata": {},
   "source": [
    "<br><br><br>\n"
   ]
  },
  {
   "cell_type": "markdown",
   "metadata": {},
   "source": [
    "Chapter 5:<br>\n",
    "Which of the following sets of vectors are independent? Find the dimension of the vector space spanned by each set."
   ]
  },
  {
   "cell_type": "markdown",
   "metadata": {},
   "source": [
    "![C5.PNG](attachment:C5.PNG)"
   ]
  },
  {
   "cell_type": "markdown",
   "metadata": {},
   "source": [
    "<b>Solution:</b><br>\n",
    "<b> 1. </b><br>\n",
    "![C5Soln.PNG](attachment:C5Soln.PNG)"
   ]
  },
  {
   "cell_type": "markdown",
   "metadata": {},
   "source": [
    "<b> 2. </b>\n",
    "\n",
    "![C5Soln2.PNG](attachment:C5Soln2.PNG)\n",
    "\n",
    "Therefore the vectors are dependent. The dimension of the space spanned by the vectors is two."
   ]
  }
 ],
 "metadata": {
  "kernelspec": {
   "display_name": "Python 3",
   "language": "python",
   "name": "python3"
  },
  "language_info": {
   "codemirror_mode": {
    "name": "ipython",
    "version": 3
   },
   "file_extension": ".py",
   "mimetype": "text/x-python",
   "name": "python",
   "nbconvert_exporter": "python",
   "pygments_lexer": "ipython3",
   "version": "3.6.5"
  }
 },
 "nbformat": 4,
 "nbformat_minor": 2
}
