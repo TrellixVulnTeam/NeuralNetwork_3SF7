{
 "cells": [
  {
   "cell_type": "markdown",
   "metadata": {},
   "source": [
    "#  Example of How to train and plot the decision boundary of a neuron\n",
    "\n",
    "This example shows how to plot a decision boundary and color the negative and positive regions accordingly.\n",
    "\n",
    "\n",
    "Thakur, Nishant"
   ]
  },
  {
   "cell_type": "code",
   "execution_count": 12,
   "metadata": {},
   "outputs": [],
   "source": [
    "#%matplotlib notebook\n",
    "%matplotlib inline\n",
    "import numpy as np\n",
    "import matplotlib.patches as mpatches\n",
    "import matplotlib.pyplot as plt\n",
    "from matplotlib import colors as c\n",
    "import time"
   ]
  },
  {
   "cell_type": "code",
   "execution_count": 14,
   "metadata": {},
   "outputs": [],
   "source": [
    "def generate_random_points(num):\n",
    "    points = np.random.randint(-10, high = 10, size=(2, num))\n",
    "    return points"
   ]
  },
  {
   "cell_type": "code",
   "execution_count": 23,
   "metadata": {},
   "outputs": [],
   "source": [
    "def plot(weights, bias, points1, points2):\n",
    "    fig = plt.figure()\n",
    "    ax = fig.gca()\n",
    "    resolution=100\n",
    "    xs = np.linspace(-10., 10., resolution)\n",
    "    ys = np.linspace(-10., 10., resolution)\n",
    "    xx, yy = np.meshgrid(xs, ys)\n",
    "    zz = weights[0] * xx + weights[1] * yy + bias\n",
    "    zz[zz<0] =- 1\n",
    "    zz[zz>0] =+ 1\n",
    "    cMap = c.ListedColormap(['g','r'])\n",
    "    quad = ax.pcolormesh(xs, ys, zz, cmap = cMap)\n",
    "    p1 = points1.T\n",
    "    p2 = points2.T\n",
    "    ax.scatter(p1[0], p1[1], marker='^', color = 'k')\n",
    "    ax.scatter(p2[0], p2[1], marker='o', color = 'b')\n",
    "    black_patch = mpatches.Patch(color='black', label='Target = -1')\n",
    "    blue_patch = mpatches.Patch(color='blue', label='Target = 1')\n",
    "    plt.legend(handles=[black_patch, blue_patch])\n",
    "\n",
    "    plt.show()"
   ]
  },
  {
   "cell_type": "code",
   "execution_count": 16,
   "metadata": {},
   "outputs": [],
   "source": [
    "def activation(input_array,weights,bias):\n",
    "    net_value = np.dot(weights, input_array.T) + bias\n",
    "    return 1 if net_value >= 0 else -1\n",
    "#     return net_value"
   ]
  },
  {
   "cell_type": "code",
   "execution_count": 17,
   "metadata": {},
   "outputs": [],
   "source": [
    "def train(X, Y, weights, bias):\n",
    "    for i in range(100):\n",
    "        index = np.random.choice(X.shape[0], 1, replace=False)\n",
    "        a = activation(X[index][0], weights, bias)\n",
    "        e = Y[index] - a\n",
    "        weights = weights + e * X[index]\n",
    "        bias = bias + e\n",
    "    plot(weights[0], bias, X[:2], X[2:])\n",
    "\n",
    "    return weights[0],bias\n"
   ]
  },
  {
   "cell_type": "code",
   "execution_count": 18,
   "metadata": {},
   "outputs": [],
   "source": [
    "weights = np.array([1, 1])\n",
    "bias = 0"
   ]
  },
  {
   "cell_type": "code",
   "execution_count": 26,
   "metadata": {
    "scrolled": false
   },
   "outputs": [
    {
     "name": "stdout",
     "output_type": "stream",
     "text": [
      "[[-4  8]\n",
      " [-2  4]] [[ 0 -3]\n",
      " [-6 -1]]\n"
     ]
    },
    {
     "data": {
      "image/png": "[encoded data removed]",
      "text/plain": [
       "<Figure size 432x288 with 1 Axes>"
      ]
     },
     "metadata": {},
     "output_type": "display_data"
    }
   ],
   "source": [
    "points1 = generate_random_points(2)\n",
    "points2 = generate_random_points(2)\n",
    "print(points1,points2)\n",
    "plot([1,1],0, points1, points2)"
   ]
  },
  {
   "cell_type": "code",
   "execution_count": 20,
   "metadata": {
    "scrolled": false
   },
   "outputs": [
    {
     "data": {
      "image/png": "[encoded data removed]",
      "text/plain": [
       "<Figure size 432x288 with 1 Axes>"
      ]
     },
     "metadata": {},
     "output_type": "display_data"
    },
    {
     "name": "stdout",
     "output_type": "stream",
     "text": [
      "[1 3] [-16]\n"
     ]
    }
   ],
   "source": [
    "X = np.concatenate((points1, points2), axis=0)\n",
    "weights, bias = train(X, np.array([1, 1, -1, -1]), weights, bias)\n",
    "print(weights, bias)"
   ]
  },
  {
   "cell_type": "code",
   "execution_count": null,
   "metadata": {},
   "outputs": [],
   "source": []
  },
  {
   "cell_type": "code",
   "execution_count": null,
   "metadata": {},
   "outputs": [],
   "source": []
  }
 ],
 "metadata": {
  "hide_input": false,
  "kernelspec": {
   "display_name": "Python 3",
   "language": "python",
   "name": "python3"
  },
  "language_info": {
   "codemirror_mode": {
    "name": "ipython",
    "version": 3
   },
   "file_extension": ".py",
   "mimetype": "text/x-python",
   "name": "python",
   "nbconvert_exporter": "python",
   "pygments_lexer": "ipython3",
   "version": "3.6.5"
  },
  "varInspector": {
   "cols": {
    "lenName": 16,
    "lenType": 16,
    "lenVar": 40
   },
   "kernels_config": {
    "python": {
     "delete_cmd_postfix": "",
     "delete_cmd_prefix": "del ",
     "library": "var_list.py",
     "varRefreshCmd": "print(var_dic_list())"
    },
    "r": {
     "delete_cmd_postfix": ") ",
     "delete_cmd_prefix": "rm(",
     "library": "var_list.r",
     "varRefreshCmd": "cat(var_dic_list()) "
    }
   },
   "types_to_exclude": [
    "module",
    "function",
    "builtin_function_or_method",
    "instance",
    "_Feature"
   ],
   "window_display": false
  }
 },
 "nbformat": 4,
 "nbformat_minor": 2
}
