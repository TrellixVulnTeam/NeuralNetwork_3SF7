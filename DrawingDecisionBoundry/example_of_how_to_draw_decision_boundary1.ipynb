{
 "cells": [
  {
   "cell_type": "markdown",
   "metadata": {},
   "source": [
    "#  Example of How to plot the decision boundary of a neuron\n",
    "\n",
    "This example shows how to plot a decision bundary and color the negative and positive regions accordingly.\n",
    "\n",
    "\n",
    "Thakur, Nishant"
   ]
  },
  {
   "cell_type": "code",
   "execution_count": 54,
   "metadata": {},
   "outputs": [],
   "source": [
    "#%matplotlib notebook\n",
    "%matplotlib inline\n",
    "import numpy as np\n",
    "import matplotlib.pyplot as plt\n",
    "import time"
   ]
  },
  {
   "cell_type": "code",
   "execution_count": 55,
   "metadata": {},
   "outputs": [],
   "source": [
    "def generate_random_points(num):\n",
    "    points = np.random.randint(-10, high = 10, size=(2, num))\n",
    "    return points"
   ]
  },
  {
   "cell_type": "code",
   "execution_count": 103,
   "metadata": {},
   "outputs": [],
   "source": [
    "def plot(weights, bias, points1, points2):\n",
    "    fig = plt.figure()\n",
    "    ax = fig.gca()\n",
    "    resolution=200\n",
    "    xs = np.linspace(-10., 10., resolution)\n",
    "    ys = np.linspace(-10., 10., resolution)\n",
    "    xx, yy = np.meshgrid(xs, ys)\n",
    "    zz = weights[0] * xx + weights[1] * yy + bias\n",
    "    zz[zz<0] =- 1\n",
    "    zz[zz>0] =+ 1\n",
    "    quad = ax.pcolormesh(xs, ys, zz)\n",
    "    p1 = points1.T\n",
    "    p2 = points2.T\n",
    "    ax.scatter(p1[0], p1[1], marker='^')\n",
    "    ax.scatter(p2[0], p2[1], marker='o')\n",
    "    plt.show()"
   ]
  },
  {
   "cell_type": "code",
   "execution_count": 104,
   "metadata": {},
   "outputs": [],
   "source": [
    "def activation(input_array,weights,bias):\n",
    "    net_value = np.dot(weights, input_array.T) + bias\n",
    "    return 1 if net_value >= 0 else -1\n",
    "#     return net_value"
   ]
  },
  {
   "cell_type": "code",
   "execution_count": 105,
   "metadata": {},
   "outputs": [],
   "source": [
    "def train(X, Y, weights, bias):\n",
    "    for i in range(100):\n",
    "        index = np.random.choice(X.shape[0], 1, replace=False)\n",
    "        a = activation(X[index][0], weights, bias)\n",
    "        e = Y[index] - a\n",
    "        weights = weights + e * X[index]\n",
    "        bias = bias + e\n",
    "    plot(weights[0], bias, X[:2], X[2:])\n",
    "\n",
    "    return weights[0],bias\n"
   ]
  },
  {
   "cell_type": "code",
   "execution_count": 106,
   "metadata": {},
   "outputs": [],
   "source": [
    "weights = np.array([1, 1])\n",
    "bias = 0"
   ]
  },
  {
   "cell_type": "code",
   "execution_count": 107,
   "metadata": {
    "scrolled": false
   },
   "outputs": [
    {
     "data": {
      "image/png": "[encoded data removed]",
      "text/plain": [
       "<Figure size 432x288 with 1 Axes>"
      ]
     },
     "metadata": {},
     "output_type": "display_data"
    }
   ],
   "source": [
    "points1 = generate_random_points(2)\n",
    "points2 = generate_random_points(2)\n",
    "\n",
    "plot([1,1],0, points1, points2)"
   ]
  },
  {
   "cell_type": "code",
   "execution_count": 108,
   "metadata": {
    "scrolled": false
   },
   "outputs": [
    {
     "data": {
      "image/png": "[encoded data removed]",
      "text/plain": [
       "<Figure size 432x288 with 1 Axes>"
      ]
     },
     "metadata": {},
     "output_type": "display_data"
    },
    {
     "name": "stdout",
     "output_type": "stream",
     "text": [
      "[  1 -11] [2]\n"
     ]
    }
   ],
   "source": [
    "X = np.concatenate((points1, points2), axis=0)\n",
    "weights, bias = train(X, np.array([1, 1, -1, -1]), weights, bias)\n",
    "print(weights, bias)"
   ]
  },
  {
   "cell_type": "code",
   "execution_count": null,
   "metadata": {},
   "outputs": [],
   "source": []
  },
  {
   "cell_type": "code",
   "execution_count": null,
   "metadata": {},
   "outputs": [],
   "source": []
  }
 ],
 "metadata": {
  "hide_input": false,
  "kernelspec": {
   "display_name": "Python 3",
   "language": "python",
   "name": "python3"
  },
  "language_info": {
   "codemirror_mode": {
    "name": "ipython",
    "version": 3
   },
   "file_extension": ".py",
   "mimetype": "text/x-python",
   "name": "python",
   "nbconvert_exporter": "python",
   "pygments_lexer": "ipython3",
   "version": "3.6.5"
  },
  "varInspector": {
   "cols": {
    "lenName": 16,
    "lenType": 16,
    "lenVar": 40
   },
   "kernels_config": {
    "python": {
     "delete_cmd_postfix": "",
     "delete_cmd_prefix": "del ",
     "library": "var_list.py",
     "varRefreshCmd": "print(var_dic_list())"
    },
    "r": {
     "delete_cmd_postfix": ") ",
     "delete_cmd_prefix": "rm(",
     "library": "var_list.r",
     "varRefreshCmd": "cat(var_dic_list()) "
    }
   },
   "types_to_exclude": [
    "module",
    "function",
    "builtin_function_or_method",
    "instance",
    "_Feature"
   ],
   "window_display": false
  }
 },
 "nbformat": 4,
 "nbformat_minor": 2
}
